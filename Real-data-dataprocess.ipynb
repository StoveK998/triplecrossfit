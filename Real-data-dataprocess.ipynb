{
 "cells": [
  {
   "cell_type": "code",
   "execution_count": null,
   "metadata": {},
   "outputs": [],
   "source": [
    "from __future__ import division\n",
    "from scipy.optimize import fsolve, root\n",
    "from scipy import integrate\n",
    "from sympy import Symbol, exp, log\n",
    "from numpy import linalg as la\n",
    "import matplotlib.pyplot as plt\n",
    "import numpy as np\n",
    "import time\n",
    "import scipy.stats\n",
    "import numpy.random as nrd\n",
    "import multiprocessing"
   ]
  },
  {
   "cell_type": "code",
   "execution_count": null,
   "metadata": {},
   "outputs": [],
   "source": [
    "def I(sxid,sxlst):\n",
    "    if sxid in sxlst:\n",
    "        return 1\n",
    "    else:\n",
    "        return 0"
   ]
  },
  {
   "cell_type": "code",
   "execution_count": null,
   "metadata": {},
   "outputs": [],
   "source": [
    "df = pd.read_csv('./triple-crossfitting/ADNIMERGE.csv')\n",
    "bl_df = df[df['VISCODE']=='bl']\n",
    "baoliu_col = list(bl_df.columns[:35])\n",
    "baoliu_col.append('Hippocampus_bl')\n",
    "baoliu_col.append('Ventricles_bl')\n",
    "baoliu_col.append('WholeBrain_bl')\n",
    "bl_df = bl_df[baoliu_col]\n",
    "file_id = [i.split('-')[0] for i in os.listdir('./triple-crossfitting/total_image_array')]\n",
    "bl_df['sx'] = bl_df['PTID'].apply(lambda x:I(x,file_id))\n",
    "bl_df = bl_df[bl_df['sx']==1]\n",
    "drop_col = ['RID','COLPROT','ORIGPROT','PIB','AV45','PTETHCAT','FDG','FBB','ABETA','TAU','PTAU','LDELTOTAL', 'DIGITSCOR', 'TRABSCOR','ADASQ4','sx'] \n",
    "processd_df = bl_df.drop(drop_col,axis=1)\n",
    "\n",
    "processd_df['DX_bl'] = processd_df['DX_bl'].apply(lambda x: 1 if x in ['AD','LMCI'] else 0)\n",
    "processd_df['PTGENDER'] = processd_df['PTGENDER'].apply(lambda x: 1 if x=='Male' else 0)\n",
    "processd_df['PTRACCAT'] = processd_df['PTRACCAT'].apply(lambda x: 1 if x=='White' else 0)\n",
    "processd_df['PTMARRY'] = processd_df['PTMARRY'].apply(lambda x: 1 if x=='Married' else 0)\n",
    "processd_df['APOE4'] = processd_df['APOE4'].apply(lambda x: 0 if x==0 else 1)\n",
    "processd_df = processd_df.drop(['RAVLT_immediate','RAVLT_learning','RAVLT_forgetting','RAVLT_perc_forgetting','CDRSB','img_idx'],axis=1)"
   ]
  },
  {
   "cell_type": "code",
   "execution_count": null,
   "metadata": {},
   "outputs": [],
   "source": [
    "processd_df['Hippocampus_bl'] = processd_df['Hippocampus_bl']/processd_df['WholeBrain_bl']\n",
    "processd_df['Ventricles_bl'] = processd_df['Ventricles_bl']/processd_df['WholeBrain_bl']\n",
    "processd_df = processd_df.drop('WholeBrain_bl',axis=1)\n",
    "processd_df.dropna(axis=0)"
   ]
  },
  {
   "cell_type": "code",
   "execution_count": null,
   "metadata": {},
   "outputs": [],
   "source": [
    "processd_df.to_csv('processd_df.csv')"
   ]
  }
 ],
 "metadata": {
  "kernelspec": {
   "display_name": "Python 3",
   "language": "python",
   "name": "python3"
  },
  "language_info": {
   "codemirror_mode": {
    "name": "ipython",
    "version": 3
   },
   "file_extension": ".py",
   "mimetype": "text/x-python",
   "name": "python",
   "nbconvert_exporter": "python",
   "pygments_lexer": "ipython3",
   "version": "3.6.5"
  }
 },
 "nbformat": 4,
 "nbformat_minor": 2
}
